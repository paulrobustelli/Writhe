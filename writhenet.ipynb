{
 "cells": [
  {
   "cell_type": "code",
   "execution_count": 1,
   "id": "a5007fc2",
   "metadata": {},
   "outputs": [],
   "source": [
    "import os\n",
    "import numpy as np\n",
    "import torch\n",
    "import mdtraj as md\n",
    "import torch.nn as nn\n",
    "import torch.nn.functional as F\n",
    "import deeptime\n",
    "from torch.utils.data import DataLoader\n",
    "from tqdm import tqdm\n",
    "# helpful neuron functions\n",
    "# numpy arrays as inputs\n",
    "def dif(x1,x2):\n",
    "    return np.sqrt(np.sum((x1-x2)**2))\n",
    "\n",
    "if torch.cuda.is_available():\n",
    "    device = torch.device(\"cuda\")\n",
    "    torch.backends.cudnn.benchmark = True\n",
    "else:\n",
    "    device = torch.device(\"cpu\")\n",
    "torch.set_num_threads(12)\n"
   ]
  },
  {
   "cell_type": "code",
   "execution_count": 26,
   "id": "ed8c71e8",
   "metadata": {},
   "outputs": [],
   "source": [
    "import numpy as np\n",
    "import mdtraj as md\n",
    "import matplotlib.pyplot as plt\n",
    "import nglview as nv"
   ]
  },
  {
   "cell_type": "code",
   "execution_count": 3,
   "id": "c4358f63",
   "metadata": {},
   "outputs": [
    {
     "name": "stdout",
     "output_type": "stream",
     "text": [
      "/Users/tommysisk/Downloads/enhanced_path_frames.pdb\n",
      "/Users/tommysisk/Downloads/enhanced_path_frames (1).pdb\n"
     ]
    }
   ],
   "source": [
    "!find ~/Downloads $(pwd) -type f | grep enhanced"
   ]
  },
  {
   "cell_type": "code",
   "execution_count": 43,
   "id": "de9026f2",
   "metadata": {},
   "outputs": [
    {
     "name": "stdout",
     "output_type": "stream",
     "text": [
      "<mdtraj.Trajectory with 643 frames, 21 atoms, 21 residues, and unitcells>\n"
     ]
    }
   ],
   "source": [
    "print(trj)"
   ]
  },
  {
   "cell_type": "code",
   "execution_count": 2,
   "id": "11b032ae",
   "metadata": {},
   "outputs": [],
   "source": [
    "pdb = \"/Users/tommysisk/Downloads/enhanced_path_frames.pdb\"\n",
    "top = md.load(pdb)\n",
    "top.center_coordinates()\n",
    "top = top.atom_slice(top.topology.select(\"name CA and chainid != 0\"))\n",
    "c = top.xyz\n",
    "# table,bonds=top.to_dataframe()\n",
    "# table[table[\"chainID\"]>2] = 0\n",
    "# table[table[\"chainID\"]==2] = 1\n",
    "# top = md.Topology.from_dataframe(table, bonds)"
   ]
  },
  {
   "cell_type": "code",
   "execution_count": 3,
   "id": "e91b8c18",
   "metadata": {},
   "outputs": [
    {
     "name": "stdout",
     "output_type": "stream",
     "text": [
      "[484 485 486 487 488 489 490 491 492 493 494 495 496 497 498 499 500 501\n",
      " 502 503 504]\n",
      "w: 0.10092808469016035\n",
      "w: 0.00030365766085793666\n",
      "w_all: [1.00928078e-01 3.03651913e-04 2.70122273e-02 1.31389558e-02\n",
      " 2.92449729e-01 7.66642056e-02 8.10020924e-02 1.80350615e-01\n",
      " 1.24914821e-01 2.59696167e-02 1.43513537e-01 1.96222827e-01\n",
      " 1.14730714e-02 3.89218632e-01 1.04579489e-01 4.25947050e-02\n",
      " 1.04704737e-03 7.80027674e-03 1.30306392e-01 3.71204511e-03\n",
      " 8.18470999e-02 4.44574169e-02 5.06039511e-03 4.69714131e-03\n",
      " 1.66890766e-01 4.65474676e-01 4.11719222e-03 1.08219701e-01\n",
      " 3.14464093e-01 6.80346003e-03 1.45314481e-01 1.66209550e-02\n",
      " 7.34474429e-03 1.31686913e-01 8.80486809e-01 4.07097908e-02\n",
      " 6.37631139e-03 6.74180802e-01 8.96508940e-02 4.75023501e-01\n",
      " 5.43452813e-04 3.91674396e-04 3.88219315e-02 3.92315909e-01\n",
      " 8.25666979e-03 2.36558039e-01 2.43075162e-01 3.62663132e-01\n",
      " 2.83314422e-02 1.57958354e-01 5.47309627e-01 2.37739892e-02\n",
      " 1.69656947e-01 1.02492655e+00 7.16097853e-01 3.40404588e-01\n",
      " 9.90673527e-01 2.73974035e-01 8.18919473e-05 2.57184639e-01\n",
      " 1.29594703e-01 1.34469775e-02 8.08997388e-02 9.60895610e-02\n",
      " 1.46648547e-01 4.17131722e-03 1.29307356e-03 9.28051172e-01\n",
      " 1.46580535e-01 1.53049863e-01 2.32164261e-01 1.52955967e-01\n",
      " 5.39582417e-03 5.51003454e-02 7.53559927e-02 8.12382460e-02\n",
      " 6.50044838e-03 6.14472617e-01 1.80082352e-01 1.61633984e-01\n",
      " 1.16625452e+00 9.69230831e-02 6.55257860e-02 1.60711144e-01\n",
      " 1.43562742e-01 5.14322390e-04 3.36449519e-04 9.14655916e-03\n",
      " 8.35165901e-02 3.04450565e-01 8.55731117e-02 1.35817003e-01\n",
      " 6.47977222e-02 1.93083990e-01 1.03035794e-01 5.85483559e-02\n",
      " 8.90406407e-02 1.61150662e-04 1.94009438e-01 2.34185117e-04\n",
      " 7.53903963e-03 1.55550107e-02 1.86369498e-02 1.28329031e+00\n",
      " 4.11471737e-02 2.15578032e-01 3.07663975e-02 8.65162044e-03\n",
      " 1.48781518e-02 5.13399153e-03 1.43930863e-01 9.73311411e-02\n",
      " 7.48876315e-01 6.27241185e-02 2.97983573e-01 7.02726049e-01\n",
      " 6.48758526e-03 1.00512389e-01 3.88571307e-01 6.01828471e-03\n",
      " 3.21949319e-01 2.32022583e-02 8.03792637e-01 5.15868333e-01\n",
      " 1.09106337e-01 7.02303077e-03 1.54522988e-01 6.28628178e-02\n",
      " 2.52995621e-02 3.78029210e-03 1.82534047e-02 1.67761730e-01\n",
      " 9.92041336e-01 3.72730799e-01 1.35204699e-01 2.45027274e-01\n",
      " 6.94861235e-03 5.93443181e-02 1.66481839e-02 2.85060108e-01\n",
      " 1.95107525e-02 3.59024740e-02 2.31287192e-02 2.56148646e-02\n",
      " 4.81834014e-02 1.98826728e-01 3.71247513e-03 1.35210500e-01\n",
      " 3.20759614e-02 4.29314516e-01 7.06149400e-02 7.01989216e-03\n",
      " 4.38672873e-02 8.27314863e-01 2.60574972e-01 1.27785693e-01\n",
      " 1.30223109e-02 9.49726775e-03 1.87525341e-01 5.25757550e-02\n",
      " 2.99699688e-01 2.60125164e-02 2.50201713e-01 3.17194670e-02\n",
      " 1.47761944e-01 1.89713012e-02 6.91290237e-03 1.27956532e-04\n",
      " 4.41556376e-01 8.40305513e-02 1.20747633e-02 1.33670156e-03\n",
      " 7.80513855e-02 1.80416261e-02 1.34331916e-02 2.56314517e-01\n",
      " 4.53705557e-02 7.30052182e-01 1.98504002e-01 4.52292876e-01\n",
      " 1.82652790e-02 8.31938559e-03 9.38901758e-02 4.49425820e-01\n",
      " 6.06136633e-01 2.12923249e-02 1.50511553e-02 2.59668071e-01\n",
      " 5.99853491e-02 9.03726512e-02 3.35988483e-02 1.68435193e-02\n",
      " 4.96199573e-02 4.70389164e-07 9.55846150e-03 1.33653055e-03\n",
      " 2.81393247e-02 5.09022332e-01 4.07709922e-02 4.36907519e-02\n",
      " 6.27077099e-03 5.30415344e-01 2.74570926e-01 4.65855284e-01\n",
      " 8.32946768e-04 1.14873576e-02 3.64187255e-01 3.93545886e-01\n",
      " 9.67678009e-01 3.70471200e-01 1.10021610e-04 2.92562233e-02\n",
      " 2.86872729e-05 1.53332141e-01 1.11310506e-02 6.65381165e-02\n",
      " 1.41928750e-01 4.50332890e-02 6.39816659e-01 1.91627198e-03\n",
      " 3.03313957e-02 6.99899170e-04 1.31480830e-01 3.18554381e-01\n",
      " 8.15251560e-01 7.32009443e-02 3.41638554e-02 2.61871909e-01\n",
      " 1.18837690e-02 1.68071670e-01 3.55734858e-03 5.91927106e-04\n",
      " 2.37116383e-01 4.93909879e-03 5.55191143e-02 8.18235571e-01\n",
      " 1.06097136e-01 3.09401372e-01 5.02344273e-01 2.62760720e-01\n",
      " 7.24694974e-03 1.19610633e-01 1.56335652e-01 3.83617499e-04\n",
      " 4.83146722e-01 8.68209897e-02 1.51785504e-01 1.30202180e-03\n",
      " 1.68184555e-02 1.60731686e-02 3.66944198e-03 1.30120509e-01\n",
      " 8.92250019e-04 6.09618546e-01 1.93118519e-01 2.12426031e-02\n",
      " 6.20953362e-03 3.08685510e-01 9.14643313e-01 1.76772480e-01\n",
      " 1.88148371e-01 2.85927351e-02 2.15074508e-01 3.87901183e-03\n",
      " 2.70586025e-02 6.11199430e-01 2.19265765e-01 9.17228331e-03\n",
      " 9.60540290e-02 1.61911819e-01 2.95190498e-01 8.08982940e-03\n",
      " 1.58762267e-03 9.39279977e-01 2.47844271e-02 9.92370308e-02\n",
      " 3.11224482e-04 2.78890465e-03 8.22304648e-01 6.87038564e-01\n",
      " 2.25761645e-01 2.80674616e-03 5.76943741e-01 1.74868862e-01\n",
      " 9.16229361e-02 4.00779183e-02 3.67163538e-03 4.10616735e-04\n",
      " 3.26093669e-01 2.39510205e-01 2.35538671e-01 4.64814589e-02\n",
      " 9.97587258e-02 1.28327958e-02 2.16246523e-02 4.39582952e-03\n",
      " 4.25513202e-01 4.39157524e-02 1.46689575e-01 1.18460256e+00\n",
      " 2.35202688e-01 2.06452420e-04 2.99916665e-01 3.39071185e-01\n",
      " 1.87707999e-02 6.40091882e-01 3.95767776e-01 6.31578140e-02\n",
      " 1.38186886e-01 1.15907197e-02 6.35813730e-02 7.66593632e-02\n",
      " 2.33657703e-03 4.79450377e-03 4.68046659e-03 1.40394271e-02\n",
      " 1.32692460e-02 2.87931829e-01 2.61760245e-02 6.05660782e-02\n",
      " 2.40157236e-01 4.32298676e-01 1.10630128e-01 1.95253414e-01\n",
      " 7.20341225e-01 3.78953362e-03 3.59732731e-02 4.45057294e-02\n",
      " 1.65235336e-02 1.33356513e-01 4.96324635e-01 5.10244561e-01\n",
      " 1.00042438e-03 5.27403918e-02 1.01202506e-01 1.74105225e-01\n",
      " 1.20339735e-01 1.51054977e-01 3.42827006e-01 2.74657677e-01\n",
      " 6.04844969e-01 2.05989937e-01 5.58427908e-01 3.24340847e-03\n",
      " 4.16348584e-01 1.40631140e-03 9.64176891e-01 6.22956911e-02\n",
      " 3.01395816e-02 1.75127345e-01 2.86932403e-02 7.37255209e-02\n",
      " 2.00397962e-01 3.08600101e-01 1.81111989e-02 7.69435051e-03\n",
      " 3.42255177e-01 2.60415894e-03 2.59930316e-02 8.79686243e-04\n",
      " 5.41789196e-01 1.10278260e-01 2.53993781e-01 1.29114860e-02\n",
      " 1.66109004e-02 4.46533165e-01 1.99339853e-01 5.54579821e-02\n",
      " 7.66616228e-01 1.02056504e-01 9.13592296e-02 1.60135152e-02\n",
      " 1.15582648e+00 3.24498006e-02 4.24821432e-01 2.11815641e-01\n",
      " 8.92505058e-02 2.68490184e-01 1.29317609e-01 1.39338733e-01\n",
      " 4.02222713e-01 2.13018803e-02 1.64258558e-01 5.11848502e-03\n",
      " 2.07902037e-02 8.13374364e-03 1.95091154e-02 1.87859363e-03\n",
      " 2.10983948e-02 1.15727650e+00 6.56172016e-02 7.27474829e-03\n",
      " 4.81181779e-01 2.06987713e-02 3.56589606e-02 3.84588708e-01\n",
      " 4.63350455e-03 4.20204086e-01 8.08073797e-01 4.80284205e-02\n",
      " 1.50123370e-01 3.31300537e-04 6.46731665e-02 1.63343560e-01\n",
      " 1.03570466e+00 8.81855289e-02 2.03220153e-01 7.50083587e-02\n",
      " 1.40308252e-01 1.37555518e-02 1.28925060e-05 6.95799464e-02\n",
      " 5.70561958e-02 8.70911910e-04 4.41990073e-01 2.95641351e-01\n",
      " 8.10947217e-03 3.12802945e-01 1.48577693e-01 5.03224749e-01\n",
      " 3.23802359e-01 3.56036751e-02 4.37273285e-01 1.10145765e-01\n",
      " 5.52383452e-02 1.43358022e-02 1.66000838e-01 2.43485988e-04\n",
      " 1.07780957e-02 2.32035331e-02 2.38663807e-02 2.74985138e-02\n",
      " 1.86780996e-01 4.27111562e-01 9.93507916e-01 3.29978615e-01\n",
      " 8.20144988e-02 2.47891706e-01 1.60854543e-02 3.39706676e-02\n",
      " 3.66509578e-03 3.09554681e-01 1.76102550e-01 6.12135451e-03\n",
      " 4.78768003e-01 8.19931320e-02 1.04246376e-01 3.91974014e-02\n",
      " 5.09148001e-02 7.61778899e-02 1.21419207e-04 1.19675634e-01\n",
      " 2.20029762e-02 5.08328977e-02 1.89367649e-01 2.38427889e-03\n",
      " 7.86661978e-02 3.70023697e-01 8.63302419e-04 1.62745681e-01\n",
      " 3.51818442e-02 7.57549892e-02 1.98675475e-02 3.20648500e-03\n",
      " 1.46505686e-02 1.25168815e-04 4.68149425e-01 9.89303548e-01\n",
      " 4.99122708e-02 5.95185812e-02 3.68524206e-01 4.26002423e-01\n",
      " 8.90964781e-02 1.04649022e-01 4.86464029e-04 1.06169591e-02\n",
      " 2.43682151e-01 2.43164147e-01 4.17815572e-01 1.96397212e-01\n",
      " 2.33209229e-03 3.17712468e-02 8.88049639e-02 2.23932833e-03\n",
      " 1.59043961e-01 2.69683164e-01 1.13970502e-03 1.42824831e-01\n",
      " 3.29799930e-01 1.11295740e-01 7.79662489e-03 1.86840954e-02\n",
      " 1.14165723e-01 8.50749605e-03 1.38368168e-02 5.58965306e-03\n",
      " 1.08855171e-02 2.91697729e-02 1.54741898e-01 2.58192380e-02\n",
      " 9.68163485e-02 1.62263589e-02 2.11507722e-02 1.69556174e-01\n",
      " 6.22917841e-01 1.15685741e-04 2.44720398e-01 1.15584696e-01\n",
      " 4.71014148e-02 7.97440181e-02 5.34849070e-02 2.51021506e-01\n",
      " 4.18249277e-01 2.78922324e-02 7.70963780e-03 1.12724040e-01\n",
      " 4.59698076e-04 1.02366657e+00 4.55367657e-02 2.37888788e-01\n",
      " 4.76891520e-02 1.22159212e-01 4.97896817e-02 1.02074665e-01\n",
      " 1.47136014e-01 1.14152773e-01 2.20177399e-01 8.03270537e-01\n",
      " 2.74229275e-01 1.00707039e+00 1.81536404e-02 3.53542710e-01\n",
      " 6.22659922e-01 4.33570593e-03 1.30401259e-03 1.53536614e-01\n",
      " 7.29941789e-04 9.56060752e-02 3.29500445e-01 4.26798178e-03\n",
      " 2.28236634e-01 3.53999989e-03 2.02500846e-01 3.85811341e-05\n",
      " 4.32207389e-02 5.57892624e-04 1.15341747e-02 1.52760450e-02\n",
      " 6.64175814e-03 4.34711622e-02 2.90874827e-01 9.93513848e-01\n",
      " 1.42862703e-01 2.29840302e-03 2.35905439e-03 1.03893475e-02\n",
      " 5.94594383e-01 5.64336456e-02 1.13852454e-01 2.72074981e-03\n",
      " 3.14386240e-01 3.97946759e-01 6.86635159e-01 8.55845727e-01\n",
      " 2.68802330e-03 7.03110288e-04 2.09953162e-02 3.43124213e-02\n",
      " 1.06886582e-01 1.08418290e-01 1.24283436e-01 6.58167365e-01\n",
      " 6.28761544e-01 3.44370162e-01 1.80378235e-02 3.34563824e-01\n",
      " 1.16822414e-01 3.47538667e-04 9.89734152e-02 1.59107937e-01\n",
      " 1.15078486e-01 2.38330967e-02 1.68679970e-03 1.15902251e-02\n",
      " 1.87141457e-01 4.87679647e-02 2.96302905e-01 1.11258957e+00\n",
      " 3.62309384e-01 1.68105025e-01 1.60168830e-03 1.77096042e-03\n",
      " 7.67257131e-02 1.96719319e-01 8.50081129e-02 2.83953063e-02\n",
      " 2.74276565e-01 1.31303833e-02 2.57797933e-03 5.77304076e-01\n",
      " 1.20202806e-02 2.28149033e-01 4.17088880e-01 6.93970914e-01\n",
      " 1.41602816e-01 2.68419778e-03 5.04639348e-02 5.04715229e-01\n",
      " 6.86372804e-01 2.33273444e-02 1.43980070e-02 7.17039317e-01\n",
      " 1.18650236e-01 8.84748688e-02 3.39029966e-03 3.35832700e-02\n",
      " 5.84179594e-02 5.04635704e-02 4.51156335e-01 1.58379778e-03\n",
      " 4.99540388e-01 2.03717411e-03 1.37886212e-01 8.07261656e-02\n",
      " 6.16698388e-01 1.48139137e-01 3.05978804e-01 8.20401973e-01\n",
      " 6.39967029e-03 2.03127788e-03 1.40784546e-03 1.39656478e-02\n",
      " 1.59153410e-01 3.31378103e-01 1.15787482e-02 2.40633306e-01\n",
      " 2.12491855e-01 3.13543396e-03 1.07315759e-04 1.77238443e-02\n",
      " 4.89014773e-02 7.47078016e-01 2.75253750e-03]\n"
     ]
    }
   ],
   "source": [
    "trj = top\n",
    "CAatoms=trj.topology.select(\"all\")\n",
    "CAdihe_index=[]\n",
    "CAlabel=[]\n",
    "CAang_index=[]\n",
    "CAvec_index=[]\n",
    "CApos=c\n",
    "\n",
    "for i in range(0,len(CAatoms)):\n",
    "     CAlabel.append(trj.topology.atom(CAatoms[i]).residue.resSeq)\n",
    "\n",
    "print(np.array(CAlabel).astype(int))\n",
    "\n",
    "def writhe_matrix(segment1,segment2):\n",
    " v13 = s2[:,0] - s1[:,0]\n",
    " v23 = s2[:,0] - s1[:,1]\n",
    " v24 = s2[:,1] - s1[:,1]\n",
    " v14 = s2[:,1] - s1[:,0]\n",
    " v = [v13,v23,v24,v14,v13,v23]\n",
    " e = []\n",
    " l13 = np.linalg.norm(v13,axis=1)\n",
    " l23 = np.linalg.norm(v23,axis=1)\n",
    " l24 = np.linalg.norm(v24,axis=1)\n",
    " l14 = np.linalg.norm(v14,axis=1)\n",
    " ls = [l13,l23,l24,l14]   \n",
    " for l in ls:\n",
    "        if np.sum(l) == 0.0:\n",
    "            return 0\n",
    " e13 = v13/l13[:,None]\n",
    " e23 = v23/l23[:,None]\n",
    " e24 = v24/l24[:,None]\n",
    " e14 = v14/l14[:,None]\n",
    " e = [e13,e23,e24,e14,e13,e23] \n",
    "    #compute the angles\n",
    " s = 0\n",
    " for i in range(1,len(e)-1):\n",
    "        a = np.asarray(e[i-1])\n",
    "        b =np.asarray(e[i])\n",
    "        c = np.asarray(e[i+1])\n",
    "        #a =e[i-1]\n",
    "        #b =e[i]\n",
    "        #c = e[i+1]\n",
    "        v1=a-b\n",
    "        v3=c-b\n",
    "        #a=np.dot(v1,v3)\n",
    "        a=(v1*v3).sum(axis=1)/(np.linalg.norm(v1,axis=1)*np.linalg.norm(v3,axis=1))\n",
    "        #a=np.dot(v1,v3)/(np.linalg.norm(v1,axis=1)*np.linalg.norm(v3,axis=1))\n",
    "        theta=np.arccos(np.clip(a, -1.0, 1.0))  \n",
    "        s = s +theta\n",
    " w = np.sign(s)*2*np.pi - s\n",
    " return w\n",
    "\n",
    "def get_segments(segment1,segment2):\n",
    "    '''Compute writhe contribution from two input [x,y,z] cooridnate pairs'''\n",
    "    s1 = segment1\n",
    "    #print(\"s1:\",s1)\n",
    "    s2 = segment2\n",
    "    #print(\"s2:\",s2)\n",
    "    #form unit vectors at the segment extremes:\n",
    "    v13 = s2[0] - s1[0]\n",
    "    v23 = s2[0] - s1[1]\n",
    "    v24 = s2[1] - s1[1]\n",
    "    v14 = s2[1] - s1[0]\n",
    "    #print(\"v13:\",v13)\n",
    "    #print(\"v23:\",v23)\n",
    "    #print(\"v24:\",v24)\n",
    "    #print(\"v14:\",v14)\n",
    "    v = [v13,v23,v24,v14,v13,v23]\n",
    "    e = []\n",
    "    l13 = np.linalg.norm(v13)\n",
    "    l23 = np.linalg.norm(v23)\n",
    "    l24 = np.linalg.norm(v24)\n",
    "    l14 = np.linalg.norm(v14)\n",
    "    ls = [l13,l23,l24,l14]\n",
    "    #print(\"ls:\",ls)\n",
    "    for l in ls:\n",
    "        if l == 0.0:\n",
    "            return 0\n",
    "    e13 = v13/l13\n",
    "    e23 = v23/l23\n",
    "    e24 = v24/l24\n",
    "    e14 = v14/l14\n",
    "    e = [e13,e23,e24,e14,e13,e23]    \n",
    "    #print(\"e:\",np.shape(e),e)\n",
    "    s = 0\n",
    "    #this is an integral\n",
    "    for i in range(1,len(e)-1):\n",
    "        a = e[i-1]\n",
    "        b =e[i]\n",
    "        c = e[i+1]\n",
    "        v1=a-b\n",
    "        v3=c-b\n",
    "        #print(\"v1\",np.shape(v1),v1)\n",
    "        #print(\"v3\",np.shape(v3),v3)\n",
    "        a=np.dot(v1,v3)\n",
    "        #print(\"Segment\",\"i\",i,\"a\",np.shape(a),a)\n",
    "        a=np.dot(v1,v3)/(np.linalg.norm(v1)*np.linalg.norm(v3))\n",
    "        theta=np.arccos(np.clip(a, -1.0, 1.0))  \n",
    "        s = s +theta\n",
    "        #print(\"s:\",s)\n",
    "    w = np.sign(s)*2*np.pi - s\n",
    "    print(\"w:\",w)\n",
    "    return\n",
    "get_segments([CApos[0][0],CApos[0][1]],[CApos[0][2],CApos[0][3]])\n",
    "get_segments([CApos[1][0],CApos[1][1]],[CApos[1][2],CApos[1][3]])\n",
    "\n",
    "#Collect CA Positions\n",
    "v1=CApos[:,0]\n",
    "v2=CApos[:,1]\n",
    "v3=CApos[:,2]\n",
    "v4=CApos[:,3]\n",
    "\n",
    "\n",
    "#Put positions in array of dimensions Framesx2x3 - Row=[[x,y,z][x,y,z]]\n",
    "s1=np.empty((len(CApos),2,3))\n",
    "s2=np.empty((len(CApos),2,3))\n",
    "s1[:,0]=v1\n",
    "s1[:,1]=v2\n",
    "s2[:,0]=v3\n",
    "s2[:,1]=v4\n",
    "w_all=writhe_matrix(s1,s2)\n",
    "print(\"w_all:\",w_all)"
   ]
  },
  {
   "cell_type": "markdown",
   "id": "d487bbfa",
   "metadata": {},
   "source": [
    "sel_ = [[i + j for i in range(4)] for j in range(dim)]"
   ]
  },
  {
   "cell_type": "code",
   "execution_count": 6,
   "id": "ed6fa957",
   "metadata": {},
   "outputs": [],
   "source": [
    "dim =21\n",
    "wr_total={}\n",
    "for j in range(0,len(CAlabel)-1):\n",
    " wr_total[j]={}\n",
    " v1=CApos[:,j]; v2=CApos[:,j+1];\n",
    " s1=np.empty((len(CApos),2,3))\n",
    " s1[:,0]=v1\n",
    " s1[:,1]=v2\n",
    " for k in range(j+1,len(CAlabel)-1):\n",
    "      v3=CApos[:,k]; v4=CApos[:,k+1];\n",
    "      s2=np.empty((len(CApos),2,3))\n",
    "      s2[:,0]=v3\n",
    "      s2[:,1]=v4\n",
    "      wr_total[j][k]=writhe_matrix(s1,s2)\n",
    "\n",
    "writhe_by_res={}\n",
    "wtot=np.zeros(len(CApos[:,0]))\n",
    "for i in wr_total:\n",
    "    w=np.zeros(len(CApos[:,0]))\n",
    "    for j in wr_total[i]:\n",
    "       w+=wr_total[i][j] \n",
    "    writhe_by_res[i]=w\n",
    "    wtot+=w\n",
    "#Sum over all pairs - not just the top half of the matrix\n",
    "wr_total={}\n",
    "for j in range(0,len(CAlabel)-1):\n",
    " wr_total[j]={}\n",
    " v1=CApos[:,j]; v2=CApos[:,j+1];\n",
    " s1=np.empty((len(CApos),2,3))\n",
    " s1[:,0]=v1\n",
    " s1[:,1]=v2\n",
    " for k in range(0,len(CAlabel)-1):\n",
    "      v3=CApos[:,k]; v4=CApos[:,k+1];\n",
    "      s2=np.empty((len(CApos),2,3))\n",
    "      s2[:,0]=v3\n",
    "      s2[:,1]=v4\n",
    "      wr_total[j][k]=writhe_matrix(s1,s2)\n",
    "\n",
    "writhe_by_res={}\n",
    "wtot=np.zeros(len(CApos[:,0]))\n",
    "for i in wr_total:\n",
    "    w=np.zeros(len(CApos[:,0]))\n",
    "    for j in wr_total[i]:\n",
    "       w+=wr_total[i][j] \n",
    "    writhe_by_res[i]=w\n",
    "    wtot+=w\n",
    "wmat = np.zeros((trj.n_frames,1, dim-1, dim-1))\n",
    "for i in range(dim-1):\n",
    "    for j in range(dim-1):\n",
    "        wmat[:,0,i,j] = wr_total[i][j]\n",
    "    "
   ]
  },
  {
   "cell_type": "code",
   "execution_count": 46,
   "id": "12da2ad6",
   "metadata": {},
   "outputs": [
    {
     "data": {
      "text/plain": [
       "(643, 1, 20, 20)"
      ]
     },
     "execution_count": 46,
     "metadata": {},
     "output_type": "execute_result"
    }
   ],
   "source": [
    "wmat.shape"
   ]
  },
  {
   "cell_type": "code",
   "execution_count": 42,
   "id": "0f39c302",
   "metadata": {},
   "outputs": [
    {
     "data": {
      "text/plain": [
       "91.85714285714286"
      ]
     },
     "execution_count": 42,
     "metadata": {},
     "output_type": "execute_result"
    }
   ],
   "source": [
    "trj.n_frames/7"
   ]
  },
  {
   "cell_type": "code",
   "execution_count": 59,
   "id": "2b0e1f42",
   "metadata": {},
   "outputs": [
    {
     "data": {
      "image/png": "[encoded data removed]",
      "text/plain": [
       "<Figure size 432x288 with 2 Axes>"
      ]
     },
     "metadata": {
      "needs_background": "light"
     },
     "output_type": "display_data"
    },
    {
     "data": {
      "image/png": "[encoded data removed]",
      "text/plain": [
       "<Figure size 432x288 with 2 Axes>"
      ]
     },
     "metadata": {
      "needs_background": "light"
     },
     "output_type": "display_data"
    },
    {
     "data": {
      "image/png": "[encoded data removed]",
      "text/plain": [
       "<Figure size 432x288 with 2 Axes>"
      ]
     },
     "metadata": {
      "needs_background": "light"
     },
     "output_type": "display_data"
    },
    {
     "data": {
      "image/png": "[encoded data removed]",
      "text/plain": [
       "<Figure size 432x288 with 2 Axes>"
      ]
     },
     "metadata": {
      "needs_background": "light"
     },
     "output_type": "display_data"
    },
    {
     "data": {
      "image/png": "[encoded data removed]",
      "text/plain": [
       "<Figure size 432x288 with 2 Axes>"
      ]
     },
     "metadata": {
      "needs_background": "light"
     },
     "output_type": "display_data"
    },
    {
     "data": {
      "image/png": "[encoded data removed]",
      "text/plain": [
       "<Figure size 432x288 with 2 Axes>"
      ]
     },
     "metadata": {
      "needs_background": "light"
     },
     "output_type": "display_data"
    },
    {
     "data": {
      "image/png": "[encoded data removed]",
      "text/plain": [
       "<Figure size 432x288 with 2 Axes>"
      ]
     },
     "metadata": {
      "needs_background": "light"
     },
     "output_type": "display_data"
    },
    {
     "data": {
      "image/png": "[encoded data removed]",
      "text/plain": [
       "<Figure size 432x288 with 2 Axes>"
      ]
     },
     "metadata": {
      "needs_background": "light"
     },
     "output_type": "display_data"
    },
    {
     "data": {
      "image/png": "[encoded data removed]",
      "text/plain": [
       "<Figure size 432x288 with 2 Axes>"
      ]
     },
     "metadata": {
      "needs_background": "light"
     },
     "output_type": "display_data"
    },
    {
     "data": {
      "image/png": "[encoded data removed]",
      "text/plain": [
       "<Figure size 432x288 with 2 Axes>"
      ]
     },
     "metadata": {
      "needs_background": "light"
     },
     "output_type": "display_data"
    },
    {
     "data": {
      "image/png": "[encoded data removed]",
      "text/plain": [
       "<Figure size 432x288 with 2 Axes>"
      ]
     },
     "metadata": {
      "needs_background": "light"
     },
     "output_type": "display_data"
    },
    {
     "data": {
      "image/png": "[encoded data removed]",
      "text/plain": [
       "<Figure size 432x288 with 2 Axes>"
      ]
     },
     "metadata": {
      "needs_background": "light"
     },
     "output_type": "display_data"
    },
    {
     "data": {
      "image/png": "[encoded data removed]",
      "text/plain": [
       "<Figure size 432x288 with 2 Axes>"
      ]
     },
     "metadata": {
      "needs_background": "light"
     },
     "output_type": "display_data"
    },
    {
     "data": {
      "image/png": "[encoded data removed]",
      "text/plain": [
       "<Figure size 432x288 with 2 Axes>"
      ]
     },
     "metadata": {
      "needs_background": "light"
     },
     "output_type": "display_data"
    },
    {
     "data": {
      "image/png": "[encoded data removed]",
      "text/plain": [
       "<Figure size 432x288 with 2 Axes>"
      ]
     },
     "metadata": {
      "needs_background": "light"
     },
     "output_type": "display_data"
    },
    {
     "data": {
      "image/png": "[encoded data removed]",
      "text/plain": [
       "<Figure size 432x288 with 2 Axes>"
      ]
     },
     "metadata": {
      "needs_background": "light"
     },
     "output_type": "display_data"
    },
    {
     "data": {
      "image/png": "[encoded data removed]",
      "text/plain": [
       "<Figure size 432x288 with 2 Axes>"
      ]
     },
     "metadata": {
      "needs_background": "light"
     },
     "output_type": "display_data"
    },
    {
     "data": {
      "image/png": "[encoded data removed]",
      "text/plain": [
       "<Figure size 432x288 with 2 Axes>"
      ]
     },
     "metadata": {
      "needs_background": "light"
     },
     "output_type": "display_data"
    },
    {
     "data": {
      "image/png": "[encoded data removed]",
      "text/plain": [
       "<Figure size 432x288 with 2 Axes>"
      ]
     },
     "metadata": {
      "needs_background": "light"
     },
     "output_type": "display_data"
    },
    {
     "data": {
      "image/png": "[encoded data removed]",
      "text/plain": [
       "<Figure size 432x288 with 2 Axes>"
      ]
     },
     "metadata": {
      "needs_background": "light"
     },
     "output_type": "display_data"
    }
   ],
   "source": [
    "frames = np.arange(trj.n_frames)\n",
    "frames = frames[110:120].tolist()+frames[-10:].tolist()\n",
    "for i in frames:\n",
    "    plt.figure()\n",
    "    if i>119:\n",
    "        plt.title(f\"BOUND: frame {i-(len(wmat)-10)}\")\n",
    "    else:\n",
    "        plt.title(f\"UNBOUND/DISPERSED: frame {i-10)}\")\n",
    "    plt.imshow(wmat[i][0], cmap = \"jet\")\n",
    "    plt.colorbar()"
   ]
  },
  {
   "cell_type": "code",
   "execution_count": 52,
   "id": "654f0b7d",
   "metadata": {},
   "outputs": [
    {
     "data": {
      "application/vnd.jupyter.widget-view+json": {
       "model_id": "da59de2a91574d67a1327a3c6cf5a555",
       "version_major": 2,
       "version_minor": 0
      },
      "text/plain": [
       "NGLWidget(max_frame=9)"
      ]
     },
     "metadata": {},
     "output_type": "display_data"
    }
   ],
   "source": [
    "##Bound\n",
    "view = nv.show_mdtraj(top[-10:])\n",
    "view.clear_representations()\n",
    "view\n",
    "view.clear_representations()\n",
    "view.add_ribbon(color=\"red\",opacity=1)\n",
    "view.add_licorice(\"0\", color = \"blue\")\n",
    "view"
   ]
  },
  {
   "cell_type": "code",
   "execution_count": 54,
   "id": "2beb4190",
   "metadata": {},
   "outputs": [
    {
     "data": {
      "application/vnd.jupyter.widget-view+json": {
       "model_id": "d47a093e5fb14c82aba7f11ff1d212f6",
       "version_major": 2,
       "version_minor": 0
      },
      "text/plain": [
       "NGLWidget(max_frame=9)"
      ]
     },
     "metadata": {},
     "output_type": "display_data"
    }
   ],
   "source": [
    "#~\n",
    "view = nv.show_mdtraj(top[110:120])\n",
    "view.clear_representations()\n",
    "view.add_ribbon(color=\"red\",opacity=1)\n",
    "view.add_licorice(\"20\")\n",
    "view"
   ]
  },
  {
   "cell_type": "code",
   "execution_count": 8,
   "id": "04b5c57b",
   "metadata": {},
   "outputs": [
    {
     "name": "stdout",
     "output_type": "stream",
     "text": [
      "1024\n",
      "tensor([[0.0965, 0.0964, 0.0980, 0.1022, 0.1015, 0.1006, 0.0996, 0.1035, 0.1023,\n",
      "         0.0994]], grad_fn=<SoftmaxBackward0>)\n"
     ]
    }
   ],
   "source": [
    "#nn module for VAMPnet \n",
    "class wnet(nn.Module):\n",
    "    def __init__(self, dim):\n",
    "        super().__init__()\n",
    "        self.conv1 = nn.Conv2d(1,32,2)\n",
    "        self.conv2 = nn.Conv2d(32,64,2)\n",
    "        self.conv3 = nn.Conv2d(64,128,4)\n",
    "        self.conv4 = nn.Conv2d(128,256,4)\n",
    "        self.to_linear = None\n",
    "        x = torch.randn(dim,dim).view(-1,1,dim,dim)\n",
    "        self.convs(x)\n",
    "        print(self.to_linear)\n",
    "        self.lin = nn.Sequential(\n",
    "            nn.Linear(self.to_linear, int(self.to_linear*.8)),\n",
    "            nn.ReLU(inplace=True),\n",
    "            nn.Linear(int(self.to_linear*.8),int(self.to_linear*.5)),\n",
    "            nn.ReLU(inplace=True), \n",
    "            nn.Linear(int(self.to_linear*.5),10),\n",
    "            nn.Softmax(dim=1)\n",
    "            )\n",
    "    def convs(self,x):\n",
    "        x = F.relu(self.conv1(x))\n",
    "        x = F.relu(self.conv2(x))\n",
    "        x = F.max_pool2d(F.relu(self.conv3(x)),2)\n",
    "        x = F.max_pool2d(F.relu(self.conv4(x)),2)\n",
    "        if self.to_linear is None:\n",
    "            self.to_linear = x[0].shape[0]*x[0].shape[1]*x[0].shape[2]\n",
    "        return x.view(-1,self.to_linear)\n",
    "    \n",
    "    def forward(self,x):\n",
    "        x = self.convs(x)\n",
    "        return self.lin(x)\n",
    "\n",
    "\n",
    "    \n",
    "r_ = 20\n",
    "r = torch.rand((1,1,r_,r_))\n",
    "lobe1 = wnet(r_)\n",
    "print(lobe1(r))\n",
    "#print(lobe2(r))\n",
    "\n",
    "        "
   ]
  },
  {
   "cell_type": "code",
   "execution_count": 3,
   "id": "31076b36",
   "metadata": {},
   "outputs": [],
   "source": []
  },
  {
   "cell_type": "code",
   "execution_count": null,
   "id": "d1f77696",
   "metadata": {},
   "outputs": [],
   "source": []
  },
  {
   "cell_type": "code",
   "execution_count": null,
   "id": "a45cf1a2",
   "metadata": {},
   "outputs": [],
   "source": []
  },
  {
   "cell_type": "code",
   "execution_count": null,
   "id": "949dca23",
   "metadata": {},
   "outputs": [],
   "source": []
  },
  {
   "cell_type": "code",
   "execution_count": null,
   "id": "62677427",
   "metadata": {},
   "outputs": [],
   "source": []
  },
  {
   "cell_type": "code",
   "execution_count": null,
   "id": "7bb83c71",
   "metadata": {},
   "outputs": [],
   "source": []
  },
  {
   "cell_type": "code",
   "execution_count": null,
   "id": "353dc1bd",
   "metadata": {},
   "outputs": [],
   "source": []
  },
  {
   "cell_type": "code",
   "execution_count": null,
   "id": "590135b4",
   "metadata": {},
   "outputs": [],
   "source": []
  },
  {
   "cell_type": "code",
   "execution_count": null,
   "id": "f7195765",
   "metadata": {},
   "outputs": [],
   "source": []
  },
  {
   "cell_type": "code",
   "execution_count": null,
   "id": "2a7affe5",
   "metadata": {},
   "outputs": [],
   "source": []
  },
  {
   "cell_type": "code",
   "execution_count": null,
   "id": "3920c355",
   "metadata": {},
   "outputs": [],
   "source": []
  },
  {
   "cell_type": "code",
   "execution_count": null,
   "id": "c0c4bcd6",
   "metadata": {},
   "outputs": [],
   "source": []
  },
  {
   "cell_type": "code",
   "execution_count": null,
   "id": "f1e3b74e",
   "metadata": {},
   "outputs": [],
   "source": [
    "\n",
    "traj = md.load(\"/Users/tommysisk/projects/msms/IDP_MSM/centered_NtailXD.dcd\")\n",
    "bb = traj.atom_slice(traj.topology.select(\"protein and backbone\"))"
   ]
  },
  {
   "cell_type": "code",
   "execution_count": 5,
   "id": "690da070",
   "metadata": {},
   "outputs": [],
   "source": [
    "#calculate contacts, create 3D array of 2D images\n",
    "coords = bb.xyz \n",
    "tsr = np.empty([coords.shape[i] for i in [0,1,1]])\n",
    "for n,i in enumerate(coords):\n",
    "    for l,j in enumerate(np.flip(i,axis=0)):\n",
    "        tsr[n][l] = np.array([dif(j,k) for k in i])"
   ]
  },
  {
   "cell_type": "code",
   "execution_count": null,
   "id": "4b54e5fe",
   "metadata": {},
   "outputs": [],
   "source": []
  },
  {
   "cell_type": "code",
   "execution_count": null,
   "id": "e945183b",
   "metadata": {},
   "outputs": [],
   "source": [
    "#plot an image\n",
    "import matplotlib.pyplot as plt\n",
    "plt.imshow(tsr[500],cmap=\"jet\")\n",
    "plt.colorbar(label=\"distance nm\")\n",
    "_=plt.yticks(np.arange(282)[::50],np.flip(np.arange(282)[::50]))"
   ]
  },
  {
   "cell_type": "code",
   "execution_count": 99,
   "id": "4fb4f090",
   "metadata": {},
   "outputs": [],
   "source": [
    "#process data\n",
    "t1 = np.copy(tsr)\n",
    "t1 = t1.reshape(643,1,282,282).astype(np.float32)\n",
    "t1 = torch.from_numpy(t1)\n",
    "t1 = t1/tsr.max()\n",
    "dataset = deeptime.util.data.TrajectoryDataset(lagtime=30, trajectory=t1)\n",
    "batch_size = 10\n",
    "n_val = int(len(dataset)*.3)\n",
    "train_data, val_data = torch.utils.data.random_split(dataset, [len(dataset) - n_val, n_val])\n",
    "loader_train = DataLoader(train_data, batch_size=batch_size, shuffle=True)\n",
    "loader_val = DataLoader(val_data, batch_size=len(val_data), shuffle=False)"
   ]
  },
  {
   "cell_type": "code",
   "execution_count": 7,
   "id": "a081bcf4",
   "metadata": {},
   "outputs": [
    {
     "name": "stdout",
     "output_type": "stream",
     "text": [
      "1024\n",
      "tensor([[0.1035, 0.0991, 0.0948, 0.1026, 0.0981, 0.0970, 0.0988, 0.1056, 0.0980,\n",
      "         0.1023]], grad_fn=<SoftmaxBackward0>)\n"
     ]
    }
   ],
   "source": [
    "#create 2d convnets - either should work\n",
    "#test by running random tensor through both\n",
    "\n",
    "class wnet(nn.Module):\n",
    "    def __init__(self, dim):\n",
    "        super().__init__()\n",
    "        self.conv1 = nn.Conv2d(1,32,2)\n",
    "        self.conv2 = nn.Conv2d(32,64,2)\n",
    "        self.conv3 = nn.Conv2d(64,128,4)\n",
    "        self.conv4 = nn.Conv2d(128,256,4)\n",
    "        self.to_linear = None\n",
    "        x = torch.randn(dim,dim).view(-1,1,dim,dim)\n",
    "        self.convs(x)\n",
    "        print(self.to_linear)\n",
    "        self.lin = nn.Sequential(\n",
    "            nn.Linear(self.to_linear, int(self.to_linear*.8)),\n",
    "            nn.ReLU(inplace=True),\n",
    "            nn.Linear(int(self.to_linear*.8),int(self.to_linear*.5)),\n",
    "            nn.ReLU(inplace=True), \n",
    "            nn.Linear(int(self.to_linear*.5),10),\n",
    "            nn.Softmax(dim=1)\n",
    "            )\n",
    "    def convs(self,x):\n",
    "        x = F.relu(self.conv1(x))\n",
    "        x = F.relu(self.conv2(x))\n",
    "        x = F.max_pool2d(F.relu(self.conv3(x)),2)\n",
    "        x = F.max_pool2d(F.relu(self.conv4(x)),2)\n",
    "        if self.to_linear is None:\n",
    "            self.to_linear = x[0].shape[0]*x[0].shape[1]*x[0].shape[2]\n",
    "        return x.view(-1,self.to_linear)\n",
    "    \n",
    "    def forward(self,x):\n",
    "        x = self.convs(x)\n",
    "        return self.lin(x)\n",
    "\n",
    "\n",
    "    \n",
    "r_ = 20\n",
    "r = torch.rand((1,1,r_,r_))\n",
    "lobe1 = wnet(r_)\n",
    "print(lobe1(r))\n",
    "#print(lobe2(r))\n",
    "\n",
    "        "
   ]
  },
  {
   "cell_type": "code",
   "execution_count": 39,
   "id": "e330b74f",
   "metadata": {},
   "outputs": [
    {
     "data": {
      "text/plain": [
       "204"
      ]
     },
     "execution_count": 39,
     "metadata": {},
     "output_type": "execute_result"
    }
   ],
   "source": [
    "int(1024*.2)"
   ]
  },
  {
   "cell_type": "code",
   "execution_count": 90,
   "id": "59bdbfa7",
   "metadata": {},
   "outputs": [
    {
     "ename": "NameError",
     "evalue": "name 'nn' is not defined",
     "output_type": "error",
     "traceback": [
      "\u001b[0;31m---------------------------------------------------------------------------\u001b[0m",
      "\u001b[0;31mNameError\u001b[0m                                 Traceback (most recent call last)",
      "\u001b[0;32m/var/folders/r2/579vstp169745hp8y937yv0c0000gn/T/ipykernel_1460/3715913236.py\u001b[0m in \u001b[0;36m<module>\u001b[0;34m\u001b[0m\n\u001b[1;32m      2\u001b[0m \u001b[0;31m## (kernel size -1) is the amount the output image is reduced\u001b[0m\u001b[0;34m\u001b[0m\u001b[0;34m\u001b[0m\u001b[0;34m\u001b[0m\u001b[0m\n\u001b[1;32m      3\u001b[0m \u001b[0mr_\u001b[0m \u001b[0;34m=\u001b[0m \u001b[0;36m20\u001b[0m\u001b[0;34m\u001b[0m\u001b[0;34m\u001b[0m\u001b[0m\n\u001b[0;32m----> 4\u001b[0;31m \u001b[0mtestConv\u001b[0m \u001b[0;34m=\u001b[0m \u001b[0mnn\u001b[0m\u001b[0;34m.\u001b[0m\u001b[0mConv2d\u001b[0m\u001b[0;34m(\u001b[0m\u001b[0;36m1\u001b[0m\u001b[0;34m,\u001b[0m\u001b[0;36m32\u001b[0m\u001b[0;34m,\u001b[0m\u001b[0;36m2\u001b[0m\u001b[0;34m,\u001b[0m \u001b[0mpadding\u001b[0m \u001b[0;34m=\u001b[0m \u001b[0;36m0\u001b[0m\u001b[0;34m,\u001b[0m \u001b[0mstride\u001b[0m\u001b[0;34m=\u001b[0m\u001b[0;36m0\u001b[0m\u001b[0;34m)\u001b[0m\u001b[0;34m\u001b[0m\u001b[0;34m\u001b[0m\u001b[0m\n\u001b[0m\u001b[1;32m      5\u001b[0m \u001b[0mtestPool\u001b[0m \u001b[0;34m=\u001b[0m \u001b[0mnn\u001b[0m\u001b[0;34m.\u001b[0m\u001b[0mMaxPool2d\u001b[0m\u001b[0;34m(\u001b[0m\u001b[0mkernel_size\u001b[0m\u001b[0;34m=\u001b[0m\u001b[0;34m(\u001b[0m\u001b[0;36m2\u001b[0m\u001b[0;34m,\u001b[0m\u001b[0;36m2\u001b[0m\u001b[0;34m)\u001b[0m\u001b[0;34m,\u001b[0m \u001b[0mstride\u001b[0m \u001b[0;34m=\u001b[0m \u001b[0;36m1\u001b[0m\u001b[0;34m)\u001b[0m\u001b[0;34m\u001b[0m\u001b[0;34m\u001b[0m\u001b[0m\n\u001b[1;32m      6\u001b[0m \u001b[0mr\u001b[0m \u001b[0;34m=\u001b[0m \u001b[0mtorch\u001b[0m\u001b[0;34m.\u001b[0m\u001b[0mrand\u001b[0m\u001b[0;34m(\u001b[0m\u001b[0;34m(\u001b[0m\u001b[0;36m1\u001b[0m\u001b[0;34m,\u001b[0m\u001b[0;36m1\u001b[0m\u001b[0;34m,\u001b[0m\u001b[0mr_\u001b[0m\u001b[0;34m,\u001b[0m\u001b[0mr_\u001b[0m\u001b[0;34m)\u001b[0m\u001b[0;34m)\u001b[0m\u001b[0;34m\u001b[0m\u001b[0;34m\u001b[0m\u001b[0m\n",
      "\u001b[0;31mNameError\u001b[0m: name 'nn' is not defined"
     ]
    }
   ],
   "source": [
    "#example of how conv works\n",
    "## (kernel size -1) is the amount the output image is reduced\n",
    "r_ = 20\n",
    "testConv = nn.Conv2d(1,32,2, padding = 0, stride=0)\n",
    "testPool = nn.MaxPool2d(kernel_size=(2,2), stride = 1)\n",
    "r = torch.rand((1,1,r_,r_))\n",
    "print(test(r).shape)\n",
    "print(testPool(test(r)).shape)"
   ]
  },
  {
   "cell_type": "code",
   "execution_count": 16,
   "id": "ae11bad3",
   "metadata": {},
   "outputs": [
    {
     "data": {
      "text/plain": [
       "441"
      ]
     },
     "execution_count": 16,
     "metadata": {},
     "output_type": "execute_result"
    }
   ],
   "source": [
    "21**2"
   ]
  },
  {
   "cell_type": "code",
   "execution_count": 101,
   "id": "7fc3e335",
   "metadata": {},
   "outputs": [
    {
     "data": {
      "text/plain": [
       "tensor([[0.0988, 0.0987, 0.1027, 0.1038, 0.1001, 0.1015, 0.1017, 0.0983, 0.1003,\n",
       "         0.0942],\n",
       "        [0.0992, 0.0987, 0.1027, 0.1048, 0.0997, 0.1016, 0.1016, 0.0978, 0.1002,\n",
       "         0.0937],\n",
       "        [0.0990, 0.0988, 0.1027, 0.1046, 0.0996, 0.1019, 0.1018, 0.0980, 0.1001,\n",
       "         0.0937],\n",
       "        [0.0988, 0.0987, 0.1027, 0.1040, 0.1000, 0.1015, 0.1017, 0.0982, 0.1002,\n",
       "         0.0941],\n",
       "        [0.0988, 0.0987, 0.1028, 0.1038, 0.1000, 0.1015, 0.1016, 0.0984, 0.1001,\n",
       "         0.0943],\n",
       "        [0.0988, 0.0986, 0.1029, 0.1037, 0.1000, 0.1016, 0.1017, 0.0984, 0.1000,\n",
       "         0.0944],\n",
       "        [0.0988, 0.0987, 0.1028, 0.1038, 0.1000, 0.1016, 0.1016, 0.0984, 0.1001,\n",
       "         0.0943]], grad_fn=<SoftmaxBackward0>)"
      ]
     },
     "execution_count": 101,
     "metadata": {},
     "output_type": "execute_result"
    }
   ],
   "source": [
    "#run data through convnet to check \n",
    "lobe1(t1[::100])"
   ]
  },
  {
   "cell_type": "code",
   "execution_count": 103,
   "id": "3bd28c97",
   "metadata": {},
   "outputs": [
    {
     "name": "stdout",
     "output_type": "stream",
     "text": [
      "Net(\n",
      "  (conv1): Conv2d(1, 32, kernel_size=(6, 6), stride=(1, 1))\n",
      "  (conv2): Conv2d(32, 64, kernel_size=(6, 6), stride=(1, 1))\n",
      "  (conv3): Conv2d(64, 128, kernel_size=(6, 6), stride=(1, 1))\n",
      "  (fc1): Linear(in_features=115200, out_features=512, bias=True)\n",
      "  (fc2): Linear(in_features=512, out_features=10, bias=True)\n",
      ")\n"
     ]
    },
    {
     "name": "stderr",
     "output_type": "stream",
     "text": [
      "                                                                                                                                                                                                            \r"
     ]
    },
    {
     "ename": "KeyboardInterrupt",
     "evalue": "",
     "output_type": "error",
     "traceback": [
      "\u001b[0;31m---------------------------------------------------------------------------\u001b[0m",
      "\u001b[0;31mKeyboardInterrupt\u001b[0m                         Traceback (most recent call last)",
      "\u001b[0;32m/var/folders/r2/579vstp169745hp8y937yv0c0000gn/T/ipykernel_14262/1295032241.py\u001b[0m in \u001b[0;36m<cell line: 9>\u001b[0;34m()\u001b[0m\n\u001b[1;32m      7\u001b[0m \u001b[0;32mfrom\u001b[0m \u001b[0mdeeptime\u001b[0m\u001b[0;34m.\u001b[0m\u001b[0mdecomposition\u001b[0m\u001b[0;34m.\u001b[0m\u001b[0mdeep\u001b[0m \u001b[0;32mimport\u001b[0m \u001b[0mVAMPNet\u001b[0m\u001b[0;34m\u001b[0m\u001b[0;34m\u001b[0m\u001b[0m\n\u001b[1;32m      8\u001b[0m \u001b[0mvampnet\u001b[0m \u001b[0;34m=\u001b[0m \u001b[0mVAMPNet\u001b[0m\u001b[0;34m(\u001b[0m\u001b[0mlobe\u001b[0m\u001b[0;34m=\u001b[0m\u001b[0mlobe\u001b[0m\u001b[0;34m,\u001b[0m\u001b[0mlobe_timelagged\u001b[0m\u001b[0;34m=\u001b[0m\u001b[0mlobe_timelagged\u001b[0m\u001b[0;34m,\u001b[0m \u001b[0mlearning_rate\u001b[0m\u001b[0;34m=\u001b[0m\u001b[0;36m1e-3\u001b[0m\u001b[0;34m,\u001b[0m \u001b[0mdevice\u001b[0m\u001b[0;34m=\u001b[0m\u001b[0mdevice\u001b[0m\u001b[0;34m)\u001b[0m\u001b[0;34m\u001b[0m\u001b[0;34m\u001b[0m\u001b[0m\n\u001b[0;32m----> 9\u001b[0;31m model = vampnet.fit(loader_train, n_epochs=10,\n\u001b[0m\u001b[1;32m     10\u001b[0m                     validation_loader=loader_val, progress=tqdm).fetch_model()           \n",
      "\u001b[0;32m/usr/local/anaconda3/lib/python3.8/site-packages/deeptime/decomposition/deep/_vampnet.py\u001b[0m in \u001b[0;36mfit\u001b[0;34m(self, data_loader, n_epochs, validation_loader, train_score_callback, validation_score_callback, progress, **kwargs)\u001b[0m\n\u001b[1;32m    592\u001b[0m         \u001b[0;32mfor\u001b[0m \u001b[0m_\u001b[0m \u001b[0;32min\u001b[0m \u001b[0mprogress\u001b[0m\u001b[0;34m(\u001b[0m\u001b[0mrange\u001b[0m\u001b[0;34m(\u001b[0m\u001b[0mn_epochs\u001b[0m\u001b[0;34m)\u001b[0m\u001b[0;34m,\u001b[0m \u001b[0mdesc\u001b[0m\u001b[0;34m=\u001b[0m\u001b[0;34m\"VAMPNet epoch\"\u001b[0m\u001b[0;34m,\u001b[0m \u001b[0mtotal\u001b[0m\u001b[0;34m=\u001b[0m\u001b[0mn_epochs\u001b[0m\u001b[0;34m,\u001b[0m \u001b[0mleave\u001b[0m\u001b[0;34m=\u001b[0m\u001b[0;32mFalse\u001b[0m\u001b[0;34m)\u001b[0m\u001b[0;34m:\u001b[0m\u001b[0;34m\u001b[0m\u001b[0;34m\u001b[0m\u001b[0m\n\u001b[1;32m    593\u001b[0m             \u001b[0;32mfor\u001b[0m \u001b[0mbatch_0\u001b[0m\u001b[0;34m,\u001b[0m \u001b[0mbatch_t\u001b[0m \u001b[0;32min\u001b[0m \u001b[0mdata_loader\u001b[0m\u001b[0;34m:\u001b[0m\u001b[0;34m\u001b[0m\u001b[0;34m\u001b[0m\u001b[0m\n\u001b[0;32m--> 594\u001b[0;31m                 self.partial_fit((batch_0.to(device=self.device), batch_t.to(device=self.device)),\n\u001b[0m\u001b[1;32m    595\u001b[0m                                  train_score_callback=train_score_callback)\n\u001b[1;32m    596\u001b[0m             \u001b[0;32mif\u001b[0m \u001b[0mvalidation_loader\u001b[0m \u001b[0;32mis\u001b[0m \u001b[0;32mnot\u001b[0m \u001b[0;32mNone\u001b[0m\u001b[0;34m:\u001b[0m\u001b[0;34m\u001b[0m\u001b[0;34m\u001b[0m\u001b[0m\n",
      "\u001b[0;32m/usr/local/anaconda3/lib/python3.8/site-packages/deeptime/decomposition/deep/_vampnet.py\u001b[0m in \u001b[0;36mpartial_fit\u001b[0;34m(self, data, train_score_callback)\u001b[0m\n\u001b[1;32m    520\u001b[0m         \u001b[0mx_t\u001b[0m \u001b[0;34m=\u001b[0m \u001b[0mself\u001b[0m\u001b[0;34m.\u001b[0m\u001b[0mlobe_timelagged\u001b[0m\u001b[0;34m(\u001b[0m\u001b[0mbatch_t\u001b[0m\u001b[0;34m)\u001b[0m\u001b[0;34m\u001b[0m\u001b[0;34m\u001b[0m\u001b[0m\n\u001b[1;32m    521\u001b[0m         \u001b[0mloss_value\u001b[0m \u001b[0;34m=\u001b[0m \u001b[0mvampnet_loss\u001b[0m\u001b[0;34m(\u001b[0m\u001b[0mx_0\u001b[0m\u001b[0;34m,\u001b[0m \u001b[0mx_t\u001b[0m\u001b[0;34m,\u001b[0m \u001b[0mmethod\u001b[0m\u001b[0;34m=\u001b[0m\u001b[0mself\u001b[0m\u001b[0;34m.\u001b[0m\u001b[0mscore_method\u001b[0m\u001b[0;34m,\u001b[0m \u001b[0mepsilon\u001b[0m\u001b[0;34m=\u001b[0m\u001b[0mself\u001b[0m\u001b[0;34m.\u001b[0m\u001b[0mepsilon\u001b[0m\u001b[0;34m,\u001b[0m \u001b[0mmode\u001b[0m\u001b[0;34m=\u001b[0m\u001b[0mself\u001b[0m\u001b[0;34m.\u001b[0m\u001b[0mscore_mode\u001b[0m\u001b[0;34m)\u001b[0m\u001b[0;34m\u001b[0m\u001b[0;34m\u001b[0m\u001b[0m\n\u001b[0;32m--> 522\u001b[0;31m         \u001b[0mloss_value\u001b[0m\u001b[0;34m.\u001b[0m\u001b[0mbackward\u001b[0m\u001b[0;34m(\u001b[0m\u001b[0;34m)\u001b[0m\u001b[0;34m\u001b[0m\u001b[0;34m\u001b[0m\u001b[0m\n\u001b[0m\u001b[1;32m    523\u001b[0m         \u001b[0mself\u001b[0m\u001b[0;34m.\u001b[0m\u001b[0moptimizer\u001b[0m\u001b[0;34m.\u001b[0m\u001b[0mstep\u001b[0m\u001b[0;34m(\u001b[0m\u001b[0;34m)\u001b[0m\u001b[0;34m\u001b[0m\u001b[0;34m\u001b[0m\u001b[0m\n\u001b[1;32m    524\u001b[0m \u001b[0;34m\u001b[0m\u001b[0m\n",
      "\u001b[0;32m/usr/local/anaconda3/lib/python3.8/site-packages/torch/_tensor.py\u001b[0m in \u001b[0;36mbackward\u001b[0;34m(self, gradient, retain_graph, create_graph, inputs)\u001b[0m\n\u001b[1;32m    305\u001b[0m                 \u001b[0mcreate_graph\u001b[0m\u001b[0;34m=\u001b[0m\u001b[0mcreate_graph\u001b[0m\u001b[0;34m,\u001b[0m\u001b[0;34m\u001b[0m\u001b[0;34m\u001b[0m\u001b[0m\n\u001b[1;32m    306\u001b[0m                 inputs=inputs)\n\u001b[0;32m--> 307\u001b[0;31m         \u001b[0mtorch\u001b[0m\u001b[0;34m.\u001b[0m\u001b[0mautograd\u001b[0m\u001b[0;34m.\u001b[0m\u001b[0mbackward\u001b[0m\u001b[0;34m(\u001b[0m\u001b[0mself\u001b[0m\u001b[0;34m,\u001b[0m \u001b[0mgradient\u001b[0m\u001b[0;34m,\u001b[0m \u001b[0mretain_graph\u001b[0m\u001b[0;34m,\u001b[0m \u001b[0mcreate_graph\u001b[0m\u001b[0;34m,\u001b[0m \u001b[0minputs\u001b[0m\u001b[0;34m=\u001b[0m\u001b[0minputs\u001b[0m\u001b[0;34m)\u001b[0m\u001b[0;34m\u001b[0m\u001b[0;34m\u001b[0m\u001b[0m\n\u001b[0m\u001b[1;32m    308\u001b[0m \u001b[0;34m\u001b[0m\u001b[0m\n\u001b[1;32m    309\u001b[0m     \u001b[0;32mdef\u001b[0m \u001b[0mregister_hook\u001b[0m\u001b[0;34m(\u001b[0m\u001b[0mself\u001b[0m\u001b[0;34m,\u001b[0m \u001b[0mhook\u001b[0m\u001b[0;34m)\u001b[0m\u001b[0;34m:\u001b[0m\u001b[0;34m\u001b[0m\u001b[0;34m\u001b[0m\u001b[0m\n",
      "\u001b[0;32m/usr/local/anaconda3/lib/python3.8/site-packages/torch/autograd/__init__.py\u001b[0m in \u001b[0;36mbackward\u001b[0;34m(tensors, grad_tensors, retain_graph, create_graph, grad_variables, inputs)\u001b[0m\n\u001b[1;32m    152\u001b[0m         \u001b[0mretain_graph\u001b[0m \u001b[0;34m=\u001b[0m \u001b[0mcreate_graph\u001b[0m\u001b[0;34m\u001b[0m\u001b[0;34m\u001b[0m\u001b[0m\n\u001b[1;32m    153\u001b[0m \u001b[0;34m\u001b[0m\u001b[0m\n\u001b[0;32m--> 154\u001b[0;31m     Variable._execution_engine.run_backward(\n\u001b[0m\u001b[1;32m    155\u001b[0m         \u001b[0mtensors\u001b[0m\u001b[0;34m,\u001b[0m \u001b[0mgrad_tensors_\u001b[0m\u001b[0;34m,\u001b[0m \u001b[0mretain_graph\u001b[0m\u001b[0;34m,\u001b[0m \u001b[0mcreate_graph\u001b[0m\u001b[0;34m,\u001b[0m \u001b[0minputs\u001b[0m\u001b[0;34m,\u001b[0m\u001b[0;34m\u001b[0m\u001b[0;34m\u001b[0m\u001b[0m\n\u001b[1;32m    156\u001b[0m         allow_unreachable=True, accumulate_grad=True)  # allow_unreachable flag\n",
      "\u001b[0;31mKeyboardInterrupt\u001b[0m: "
     ]
    }
   ],
   "source": [
    "#Create VAMP model, train,etc\n",
    "lobe = lobe1.float()\n",
    "from copy import deepcopy\n",
    "lobe_timelagged = deepcopy(lobe).to(device=device)\n",
    "lobe = lobe.to(device=device)\n",
    "print(lobe)\n",
    "from deeptime.decomposition.deep import VAMPNet\n",
    "vampnet = VAMPNet(lobe=lobe,lobe_timelagged=lobe_timelagged, learning_rate=1e-3, device=device)\n",
    "model = vampnet.fit(loader_train, n_epochs=10,\n",
    "                    validation_loader=loader_val, progress=tqdm).fetch_model()           "
   ]
  },
  {
   "cell_type": "code",
   "execution_count": 112,
   "id": "a1eda453",
   "metadata": {},
   "outputs": [
    {
     "data": {
      "text/plain": [
       "''"
      ]
     },
     "execution_count": 112,
     "metadata": {},
     "output_type": "execute_result"
    }
   ],
   "source": []
  },
  {
   "cell_type": "code",
   "execution_count": 106,
   "id": "64605bb8",
   "metadata": {},
   "outputs": [],
   "source": [
    "#extract probabilities\n",
    "probabilities = model.transform(t1[::100])"
   ]
  },
  {
   "cell_type": "code",
   "execution_count": 107,
   "id": "287f9095",
   "metadata": {},
   "outputs": [
    {
     "data": {
      "text/plain": [
       "array([0.06600839, 0.05907963, 0.05177299, 0.01203726, 0.0134739 ,\n",
       "       0.31652358, 0.08224312, 0.12066939, 0.17666093, 0.10153081],\n",
       "      dtype=float32)"
      ]
     },
     "execution_count": 107,
     "metadata": {},
     "output_type": "execute_result"
    }
   ],
   "source": [
    "##network outputs probabilistic assignments to each cluster for each frame --> Nframes by Nstates array\n",
    "probabilities[0]"
   ]
  },
  {
   "cell_type": "code",
   "execution_count": 108,
   "id": "643966d6",
   "metadata": {},
   "outputs": [
    {
     "data": {
      "text/plain": [
       "1.0"
      ]
     },
     "execution_count": 108,
     "metadata": {},
     "output_type": "execute_result"
    }
   ],
   "source": [
    "probabilities[0].sum()"
   ]
  },
  {
   "cell_type": "code",
   "execution_count": null,
   "id": "32fbd27a",
   "metadata": {},
   "outputs": [],
   "source": []
  },
  {
   "cell_type": "code",
   "execution_count": null,
   "id": "50c694be",
   "metadata": {},
   "outputs": [],
   "source": []
  },
  {
   "cell_type": "code",
   "execution_count": null,
   "id": "383c05bc",
   "metadata": {},
   "outputs": [],
   "source": []
  },
  {
   "cell_type": "code",
   "execution_count": null,
   "id": "70918d7c",
   "metadata": {},
   "outputs": [],
   "source": []
  },
  {
   "cell_type": "code",
   "execution_count": null,
   "id": "93c92be4",
   "metadata": {},
   "outputs": [],
   "source": []
  },
  {
   "cell_type": "code",
   "execution_count": null,
   "id": "d189c2af",
   "metadata": {},
   "outputs": [],
   "source": []
  },
  {
   "cell_type": "code",
   "execution_count": null,
   "id": "6f0e9823",
   "metadata": {},
   "outputs": [],
   "source": []
  },
  {
   "cell_type": "code",
   "execution_count": null,
   "id": "8c543ce8",
   "metadata": {},
   "outputs": [],
   "source": []
  },
  {
   "cell_type": "code",
   "execution_count": null,
   "id": "29a79d79",
   "metadata": {},
   "outputs": [],
   "source": []
  },
  {
   "cell_type": "code",
   "execution_count": null,
   "id": "b4d190fc",
   "metadata": {},
   "outputs": [],
   "source": []
  },
  {
   "cell_type": "code",
   "execution_count": null,
   "id": "7b606dd6",
   "metadata": {},
   "outputs": [],
   "source": []
  },
  {
   "cell_type": "code",
   "execution_count": 43,
   "id": "5d39da83",
   "metadata": {},
   "outputs": [],
   "source": [
    "#other networks and modules\n",
    "class View(nn.Module):\n",
    "    def __init__(self, shape):\n",
    "        super().__init__()\n",
    "        self.shape = shape\n",
    "\n",
    "    def forward(self, x):\n",
    "        return x.view(*self.shape)\n",
    "\n",
    "class Lj(nn.Module):\n",
    "    def __init__(self, shape):\n",
    "        super().__init__()\n",
    "    def forward(self, x):\n",
    "        n = x.size\n",
    "        return \n",
    "    \n",
    "class convs(nn.Module):\n",
    "    def __init__(self):\n",
    "        super().__init__()\n",
    "        self.conv1 = nn.Conv2d(1,32,6)\n",
    "        self.conv2 = nn.Conv2d(32,64,6)\n",
    "        self.conv3 = nn.Conv2d(64,128,6)\n",
    "    def forward(self,x):\n",
    "        x = F.max_pool2d(F.relu(self.conv1(x)),(2,2))\n",
    "        x = F.max_pool2d(F.relu(self.conv2(x)),(2,2))\n",
    "        x = F.max_pool2d(F.relu(self.conv3(x)),(2,2))\n",
    "        self._to_linear = x[0].shape[0]*x[0].shape[1]*x[0].shape[2]\n",
    "        return x.view(-1,self._to_linear)\n",
    "\n",
    "\n",
    "\n",
    "class Net2(nn.Module):\n",
    "    def __init__(self):\n",
    "        \n",
    "      super().__init__()\n",
    "      self.conv1 = nn.Conv2d(1, 32, 5, 1)\n",
    "      self.conv2 = nn.Conv2d(32, 64, 5, 1)\n",
    "      self.conv3 = nn.Conv2d(64,128,5)\n",
    "    \n",
    "    \n",
    "      self.dropout1 = nn.Dropout2d(0.25)\n",
    "      self.dropout2 = nn.Dropout2d(0.5)\n",
    "      self.fc1 = nn.Linear(9216, 128)\n",
    "      self.fc2 = nn.Linear(128, 10)\n",
    "    # x represents our data\n",
    "    def forward(self, x):\n",
    "      # Pass data through conv1\n",
    "      x = self.conv1(x)\n",
    "      # Use the rectified-linear activation function over x\n",
    "      x = F.relu(x)\n",
    "\n",
    "      x = self.conv2(x)\n",
    "      x = F.relu(x)\n",
    "      \n",
    "      x = self.conv3(x)\n",
    "      x = F.relu(x)\n",
    "\n",
    "      # Run max pooling over x\n",
    "      x = F.max_pool2d(x, 2)\n",
    "      # Pass data through dropout1\n",
    "      x = self.dropout1(x)\n",
    "      # Flatten x with start_dim=1\n",
    "      x = torch.flatten(x, 1)\n",
    "      # Pass data through fc1\n",
    "      x = self.fc1(x)\n",
    "      x = F.relu(x)\n",
    "      x = self.dropout2(x)\n",
    "      x = self.fc2(x)\n",
    "\n",
    "      # Apply softmax to x\n",
    "      output = F.log_softmax(x, dim=1)\n",
    "      return output"
   ]
  },
  {
   "cell_type": "code",
   "execution_count": 94,
   "id": "cb62f5b4",
   "metadata": {},
   "outputs": [],
   "source": [
    "l = list(range(10))"
   ]
  },
  {
   "cell_type": "code",
   "execution_count": 95,
   "id": "829a34c6",
   "metadata": {},
   "outputs": [
    {
     "data": {
      "text/plain": [
       "[0, 1, 2, 3, 4, 5, 6, 7, 8, 9]"
      ]
     },
     "execution_count": 95,
     "metadata": {},
     "output_type": "execute_result"
    }
   ],
   "source": [
    "l"
   ]
  },
  {
   "cell_type": "code",
   "execution_count": 96,
   "id": "d402e21f",
   "metadata": {},
   "outputs": [
    {
     "data": {
      "text/plain": [
       "False"
      ]
     },
     "execution_count": 96,
     "metadata": {},
     "output_type": "execute_result"
    }
   ],
   "source": []
  },
  {
   "cell_type": "code",
   "execution_count": null,
   "id": "7082e38a",
   "metadata": {},
   "outputs": [],
   "source": []
  }
 ],
 "metadata": {
  "kernelspec": {
   "display_name": "Python 3 (ipykernel)",
   "language": "python",
   "name": "python3"
  },
  "language_info": {
   "codemirror_mode": {
    "name": "ipython",
    "version": 3
   },
   "file_extension": ".py",
   "mimetype": "text/x-python",
   "name": "python",
   "nbconvert_exporter": "python",
   "pygments_lexer": "ipython3",
   "version": "3.7.12"
  }
 },
 "nbformat": 4,
 "nbformat_minor": 5
}
